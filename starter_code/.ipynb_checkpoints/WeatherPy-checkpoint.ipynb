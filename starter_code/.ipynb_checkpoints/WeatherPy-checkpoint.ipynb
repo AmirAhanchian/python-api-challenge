{
 "cells": [
  {
   "cell_type": "markdown",
   "metadata": {},
   "source": [
    "# WeatherPy\n",
    "\n",
    "---\n",
    "\n",
    "## Starter Code to Generate Random Geographic Coordinates and a List of Cities"
   ]
  },
  {
   "cell_type": "code",
   "execution_count": 1,
   "metadata": {},
   "outputs": [
    {
     "name": "stdout",
     "output_type": "stream",
     "text": [
      "Requirement already satisfied: citipy in c:\\users\\amir\\anaconda3\\lib\\site-packages (0.0.5)\n",
      "Requirement already satisfied: kdtree>=0.12 in c:\\users\\amir\\anaconda3\\lib\\site-packages (from citipy) (0.16)\n"
     ]
    }
   ],
   "source": [
    "# Dependencies and Setup\n",
    "import matplotlib.pyplot as plt\n",
    "import pandas as pd\n",
    "import numpy as np\n",
    "import requests\n",
    "import time\n",
    "from scipy.stats import linregress\n",
    "!pip install citipy\n",
    "\n",
    "# Impor the OpenWeatherMap API key\n",
    "from api_keys import weather_api_key\n",
    "\n",
    "# Import citipy to determine the cities based on latitude and longitude\n",
    "from citipy import citipy"
   ]
  },
  {
   "cell_type": "markdown",
   "metadata": {},
   "source": [
    "### Generate the Cities List by Using the `citipy` Library"
   ]
  },
  {
   "cell_type": "code",
   "execution_count": 2,
   "metadata": {},
   "outputs": [
    {
     "name": "stdout",
     "output_type": "stream",
     "text": [
      "Number of cities in the list: 633\n"
     ]
    }
   ],
   "source": [
    "# Empty list for holding the latitude and longitude combinations\n",
    "lat_lngs = []\n",
    "\n",
    "# Empty list for holding the cities names\n",
    "cities = []\n",
    "\n",
    "# Range of latitudes and longitudes\n",
    "lat_range = (-90, 90)\n",
    "lng_range = (-180, 180)\n",
    "\n",
    "# Create a set of random lat and lng combinations\n",
    "lats = np.random.uniform(lat_range[0], lat_range[1], size=1500)\n",
    "lngs = np.random.uniform(lng_range[0], lng_range[1], size=1500)\n",
    "lat_lngs = zip(lats, lngs)\n",
    "\n",
    "# Identify nearest city for each lat, lng combination\n",
    "for lat_lng in lat_lngs:\n",
    "    city = citipy.nearest_city(lat_lng[0], lat_lng[1]).city_name\n",
    "    \n",
    "    # If the city is unique, then add it to a our cities list\n",
    "    if city not in cities:\n",
    "        cities.append(city)\n",
    "\n",
    "# Print the city count to confirm sufficient count\n",
    "print(f\"Number of cities in the list: {len(cities)}\")"
   ]
  },
  {
   "cell_type": "markdown",
   "metadata": {},
   "source": [
    "---"
   ]
  },
  {
   "cell_type": "markdown",
   "metadata": {},
   "source": [
    "## Requirement 1: Create Plots to Showcase the Relationship Between Weather Variables and Latitude\n",
    "\n",
    "### Use the OpenWeatherMap API to retrieve weather data from the cities list generated in the started code"
   ]
  },
  {
   "cell_type": "code",
   "execution_count": 3,
   "metadata": {},
   "outputs": [
    {
     "name": "stdout",
     "output_type": "stream",
     "text": [
      "Beginning Data Retrieval     \n",
      "-----------------------------\n",
      "Processing Record 1 of Set 1 | new norfolk\n",
      "Processing Record 2 of Set 1 | fortuna\n",
      "Processing Record 3 of Set 1 | georgetown\n",
      "Processing Record 4 of Set 1 | taolanaro\n",
      "City not found. Skipping...\n",
      "Processing Record 5 of Set 1 | vanavara\n",
      "Processing Record 6 of Set 1 | atuona\n",
      "Processing Record 7 of Set 1 | broome\n",
      "Processing Record 8 of Set 1 | east london\n",
      "Processing Record 9 of Set 1 | nishihara\n",
      "Processing Record 10 of Set 1 | bluff\n",
      "Processing Record 11 of Set 1 | barcelos\n",
      "Processing Record 12 of Set 1 | bengkulu\n",
      "Processing Record 13 of Set 1 | victoria\n",
      "Processing Record 14 of Set 1 | bredasdorp\n",
      "Processing Record 15 of Set 1 | dolbeau\n",
      "City not found. Skipping...\n",
      "Processing Record 16 of Set 1 | jamestown\n",
      "Processing Record 17 of Set 1 | albany\n",
      "Processing Record 18 of Set 1 | buraydah\n",
      "Processing Record 19 of Set 1 | vostochnyy\n",
      "Processing Record 20 of Set 1 | iisalmi\n",
      "Processing Record 21 of Set 1 | punta arenas\n",
      "Processing Record 22 of Set 1 | cherskiy\n",
      "Processing Record 23 of Set 1 | hilo\n",
      "Processing Record 24 of Set 1 | tasiilaq\n",
      "Processing Record 25 of Set 1 | tsihombe\n",
      "City not found. Skipping...\n",
      "Processing Record 26 of Set 1 | cidreira\n",
      "Processing Record 27 of Set 1 | yellowknife\n",
      "Processing Record 28 of Set 1 | tidore\n",
      "City not found. Skipping...\n",
      "Processing Record 29 of Set 1 | krasnoselkup\n",
      "Processing Record 30 of Set 1 | rikitea\n",
      "Processing Record 31 of Set 1 | yar-sale\n",
      "Processing Record 32 of Set 1 | mataura\n",
      "Processing Record 33 of Set 1 | saint-philippe\n",
      "Processing Record 34 of Set 1 | xinyu\n",
      "Processing Record 35 of Set 1 | ushuaia\n",
      "Processing Record 36 of Set 1 | ilulissat\n",
      "Processing Record 37 of Set 1 | illoqqortoormiut\n",
      "City not found. Skipping...\n",
      "Processing Record 38 of Set 1 | tuktoyaktuk\n",
      "Processing Record 39 of Set 1 | cody\n",
      "Processing Record 40 of Set 1 | cayenne\n",
      "Processing Record 41 of Set 1 | upernavik\n",
      "Processing Record 42 of Set 1 | wajir\n",
      "Processing Record 43 of Set 1 | pozo colorado\n",
      "Processing Record 44 of Set 1 | paamiut\n",
      "Processing Record 45 of Set 1 | severo-kurilsk\n",
      "Processing Record 46 of Set 1 | ilo\n",
      "Processing Record 47 of Set 1 | la poza\n",
      "Processing Record 48 of Set 1 | perbaungan\n",
      "Processing Record 49 of Set 1 | saskylakh\n",
      "Processing Record 50 of Set 1 | cape town\n",
      "Processing Record 0 of Set 2 | kapaa\n",
      "Processing Record 1 of Set 2 | sentyabrskiy\n",
      "City not found. Skipping...\n",
      "Processing Record 2 of Set 2 | port lincoln\n",
      "Processing Record 3 of Set 2 | miri\n",
      "Processing Record 4 of Set 2 | sao gabriel da cachoeira\n",
      "Processing Record 5 of Set 2 | rundu\n",
      "Processing Record 6 of Set 2 | saldanha\n",
      "Processing Record 7 of Set 2 | castro\n",
      "Processing Record 8 of Set 2 | amahai\n",
      "Processing Record 9 of Set 2 | mys shmidta\n",
      "City not found. Skipping...\n",
      "Processing Record 10 of Set 2 | bodden town\n",
      "Processing Record 11 of Set 2 | ponta do sol\n",
      "Processing Record 12 of Set 2 | belushya guba\n",
      "City not found. Skipping...\n",
      "Processing Record 13 of Set 2 | marcona\n",
      "City not found. Skipping...\n",
      "Processing Record 14 of Set 2 | puerto del rosario\n",
      "Processing Record 15 of Set 2 | barela\n",
      "Processing Record 16 of Set 2 | teguldet\n",
      "Processing Record 17 of Set 2 | mehamn\n",
      "Processing Record 18 of Set 2 | uwayl\n",
      "City not found. Skipping...\n",
      "Processing Record 19 of Set 2 | shelburne\n",
      "Processing Record 20 of Set 2 | avarua\n",
      "Processing Record 21 of Set 2 | margate\n",
      "Processing Record 22 of Set 2 | bathsheba\n",
      "Processing Record 23 of Set 2 | hermanus\n",
      "Processing Record 24 of Set 2 | pevek\n",
      "Processing Record 25 of Set 2 | viedma\n",
      "Processing Record 26 of Set 2 | libreville\n",
      "Processing Record 27 of Set 2 | bonthe\n",
      "Processing Record 28 of Set 2 | lagoa\n",
      "Processing Record 29 of Set 2 | eten\n",
      "Processing Record 30 of Set 2 | ahipara\n",
      "Processing Record 31 of Set 2 | la rioja\n",
      "Processing Record 32 of Set 2 | torbay\n",
      "Processing Record 33 of Set 2 | santa rosa\n",
      "Processing Record 34 of Set 2 | busselton\n",
      "Processing Record 35 of Set 2 | butaritari\n",
      "Processing Record 36 of Set 2 | mar del plata\n",
      "Processing Record 37 of Set 2 | maragogi\n",
      "Processing Record 38 of Set 2 | beaverlodge\n",
      "Processing Record 39 of Set 2 | vaini\n",
      "Processing Record 40 of Set 2 | barentsburg\n",
      "City not found. Skipping...\n",
      "Processing Record 41 of Set 2 | dikson\n",
      "Processing Record 42 of Set 2 | rypefjord\n",
      "Processing Record 43 of Set 2 | thompson\n",
      "Processing Record 44 of Set 2 | port alfred\n",
      "Processing Record 45 of Set 2 | lompoc\n",
      "Processing Record 46 of Set 2 | talnakh\n",
      "Processing Record 47 of Set 2 | norman wells\n",
      "Processing Record 48 of Set 2 | umzimvubu\n",
      "City not found. Skipping...\n",
      "Processing Record 49 of Set 2 | lebu\n",
      "Processing Record 0 of Set 3 | hamilton\n",
      "Processing Record 1 of Set 3 | ketchikan\n",
      "Processing Record 2 of Set 3 | husavik\n",
      "Processing Record 3 of Set 3 | chirongui\n",
      "Processing Record 4 of Set 3 | ancud\n",
      "Processing Record 5 of Set 3 | hlukhiv\n",
      "Processing Record 6 of Set 3 | haines junction\n",
      "Processing Record 7 of Set 3 | honiara\n",
      "Processing Record 8 of Set 3 | kruisfontein\n",
      "Processing Record 9 of Set 3 | mudgal\n",
      "Processing Record 10 of Set 3 | carnarvon\n",
      "Processing Record 11 of Set 3 | turukhansk\n",
      "Processing Record 12 of Set 3 | hobyo\n",
      "Processing Record 13 of Set 3 | aklavik\n",
      "Processing Record 14 of Set 3 | norilsk\n",
      "Processing Record 15 of Set 3 | yenagoa\n",
      "Processing Record 16 of Set 3 | ribeira grande\n",
      "Processing Record 17 of Set 3 | halalo\n",
      "City not found. Skipping...\n",
      "Processing Record 18 of Set 3 | severnyy\n",
      "Processing Record 19 of Set 3 | saleaula\n",
      "City not found. Skipping...\n",
      "Processing Record 20 of Set 3 | utiroa\n",
      "City not found. Skipping...\n",
      "Processing Record 21 of Set 3 | impfondo\n",
      "Processing Record 22 of Set 3 | grindavik\n",
      "Processing Record 23 of Set 3 | attawapiskat\n",
      "City not found. Skipping...\n",
      "Processing Record 24 of Set 3 | oudtshoorn\n",
      "Processing Record 25 of Set 3 | kichera\n",
      "Processing Record 26 of Set 3 | glendive\n",
      "Processing Record 27 of Set 3 | douala\n",
      "Processing Record 28 of Set 3 | estelle\n",
      "Processing Record 29 of Set 3 | benjamin aceval\n",
      "Processing Record 30 of Set 3 | port elizabeth\n",
      "Processing Record 31 of Set 3 | bolungarvik\n",
      "City not found. Skipping...\n",
      "Processing Record 32 of Set 3 | zhangjiakou\n",
      "Processing Record 33 of Set 3 | hobart\n",
      "Processing Record 34 of Set 3 | tilichiki\n",
      "Processing Record 35 of Set 3 | vallenar\n",
      "Processing Record 36 of Set 3 | atlantic beach\n",
      "Processing Record 37 of Set 3 | anicuns\n",
      "Processing Record 38 of Set 3 | winnemucca\n",
      "Processing Record 39 of Set 3 | karaul\n",
      "City not found. Skipping...\n",
      "Processing Record 40 of Set 3 | ogembo\n",
      "Processing Record 41 of Set 3 | santa cruz\n",
      "Processing Record 42 of Set 3 | hualmay\n",
      "Processing Record 43 of Set 3 | vila franca do campo\n",
      "Processing Record 44 of Set 3 | bauchi\n",
      "Processing Record 45 of Set 3 | te anau\n",
      "Processing Record 46 of Set 3 | phan thiet\n",
      "Processing Record 47 of Set 3 | astolfo dutra\n",
      "Processing Record 48 of Set 3 | bambous virieux\n",
      "Processing Record 49 of Set 3 | ouadda\n",
      "Processing Record 0 of Set 4 | muros\n",
      "Processing Record 1 of Set 4 | narsaq\n",
      "Processing Record 2 of Set 4 | tuatapere\n",
      "Processing Record 3 of Set 4 | comandau\n",
      "Processing Record 4 of Set 4 | almirante tamandare\n",
      "Processing Record 5 of Set 4 | paciran\n",
      "Processing Record 6 of Set 4 | sanmenxia\n",
      "Processing Record 7 of Set 4 | oranjemund\n",
      "Processing Record 8 of Set 4 | buala\n",
      "Processing Record 9 of Set 4 | himora\n",
      "City not found. Skipping...\n",
      "Processing Record 10 of Set 4 | roma\n",
      "Processing Record 11 of Set 4 | airai\n",
      "Processing Record 12 of Set 4 | isla vista\n",
      "Processing Record 13 of Set 4 | barrow\n",
      "Processing Record 14 of Set 4 | tapaua\n",
      "City not found. Skipping...\n",
      "Processing Record 15 of Set 4 | leshukonskoye\n",
      "Processing Record 16 of Set 4 | ilinsko-podomskoye\n",
      "City not found. Skipping...\n",
      "Processing Record 17 of Set 4 | sur\n",
      "Processing Record 18 of Set 4 | kavieng\n",
      "Processing Record 19 of Set 4 | polaniec\n",
      "Processing Record 20 of Set 4 | panzhihua\n",
      "Processing Record 21 of Set 4 | verkhnyaya inta\n",
      "Processing Record 22 of Set 4 | raurkela\n",
      "City not found. Skipping...\n",
      "Processing Record 23 of Set 4 | bolshoye sorokino\n",
      "City not found. Skipping...\n",
      "Processing Record 24 of Set 4 | catuday\n",
      "Processing Record 25 of Set 4 | gobabis\n",
      "Processing Record 26 of Set 4 | bandarbeyla\n",
      "Processing Record 27 of Set 4 | pueblo\n",
      "Processing Record 28 of Set 4 | grand river south east\n",
      "City not found. Skipping...\n",
      "Processing Record 29 of Set 4 | emerald\n"
     ]
    },
    {
     "name": "stdout",
     "output_type": "stream",
     "text": [
      "Processing Record 30 of Set 4 | hami\n",
      "Processing Record 31 of Set 4 | samusu\n",
      "City not found. Skipping...\n",
      "Processing Record 32 of Set 4 | florianopolis\n",
      "Processing Record 33 of Set 4 | mareeba\n",
      "Processing Record 34 of Set 4 | sao jose da coroa grande\n",
      "Processing Record 35 of Set 4 | half moon bay\n",
      "Processing Record 36 of Set 4 | ikom\n",
      "Processing Record 37 of Set 4 | kenai\n",
      "Processing Record 38 of Set 4 | yermakovskoye\n",
      "Processing Record 39 of Set 4 | gizo\n",
      "Processing Record 40 of Set 4 | alexandria\n",
      "Processing Record 41 of Set 4 | caiaponia\n",
      "Processing Record 42 of Set 4 | keta\n",
      "Processing Record 43 of Set 4 | amderma\n",
      "City not found. Skipping...\n",
      "Processing Record 44 of Set 4 | oranjestad\n",
      "Processing Record 45 of Set 4 | hamakita\n",
      "Processing Record 46 of Set 4 | lalibela\n",
      "Processing Record 47 of Set 4 | raudeberg\n",
      "Processing Record 48 of Set 4 | sabadell\n",
      "Processing Record 49 of Set 4 | oktyabrskiy\n",
      "Processing Record 0 of Set 5 | bagdarin\n",
      "Processing Record 1 of Set 5 | simnas\n",
      "Processing Record 2 of Set 5 | port blair\n",
      "Processing Record 3 of Set 5 | vesele\n",
      "Processing Record 4 of Set 5 | tumannyy\n",
      "City not found. Skipping...\n",
      "Processing Record 5 of Set 5 | laguna\n",
      "Processing Record 6 of Set 5 | esperance\n",
      "Processing Record 7 of Set 5 | eirunepe\n",
      "Processing Record 8 of Set 5 | malwan\n",
      "City not found. Skipping...\n",
      "Processing Record 9 of Set 5 | batemans bay\n",
      "Processing Record 10 of Set 5 | esna\n",
      "Processing Record 11 of Set 5 | hithadhoo\n",
      "Processing Record 12 of Set 5 | san patricio\n",
      "Processing Record 13 of Set 5 | oksfjord\n",
      "Processing Record 14 of Set 5 | beitbridge\n",
      "Processing Record 15 of Set 5 | viligili\n",
      "City not found. Skipping...\n",
      "Processing Record 16 of Set 5 | qaanaaq\n",
      "Processing Record 17 of Set 5 | svetlogorsk\n",
      "Processing Record 18 of Set 5 | kangaatsiaq\n",
      "Processing Record 19 of Set 5 | port hardy\n",
      "Processing Record 20 of Set 5 | kahului\n",
      "Processing Record 21 of Set 5 | murgab\n",
      "Processing Record 22 of Set 5 | faanui\n",
      "Processing Record 23 of Set 5 | bethel\n",
      "Processing Record 24 of Set 5 | jardim\n",
      "Processing Record 25 of Set 5 | broken hill\n",
      "Processing Record 26 of Set 5 | hasaki\n",
      "Processing Record 27 of Set 5 | poum\n",
      "Processing Record 28 of Set 5 | tabiauea\n",
      "City not found. Skipping...\n",
      "Processing Record 29 of Set 5 | berlevag\n",
      "Processing Record 30 of Set 5 | yulara\n",
      "Processing Record 31 of Set 5 | chokurdakh\n",
      "Processing Record 32 of Set 5 | nizhneyansk\n",
      "City not found. Skipping...\n",
      "Processing Record 33 of Set 5 | coihaique\n",
      "Processing Record 34 of Set 5 | cumaribo\n",
      "City not found. Skipping...\n",
      "Processing Record 35 of Set 5 | wangkui\n",
      "Processing Record 36 of Set 5 | muyezerskiy\n",
      "Processing Record 37 of Set 5 | providencia\n",
      "Processing Record 38 of Set 5 | grand gaube\n",
      "Processing Record 39 of Set 5 | ponta delgada\n",
      "Processing Record 40 of Set 5 | iqaluit\n",
      "Processing Record 41 of Set 5 | sao filipe\n",
      "Processing Record 42 of Set 5 | adrar\n",
      "Processing Record 43 of Set 5 | marystown\n",
      "Processing Record 44 of Set 5 | constitucion\n",
      "Processing Record 45 of Set 5 | souillac\n",
      "Processing Record 46 of Set 5 | korla\n",
      "Processing Record 47 of Set 5 | binzhou\n",
      "Processing Record 48 of Set 5 | gerash\n",
      "Processing Record 49 of Set 5 | nantucket\n",
      "Processing Record 0 of Set 6 | mana\n",
      "Processing Record 1 of Set 6 | sitka\n",
      "Processing Record 2 of Set 6 | garden city\n",
      "Processing Record 3 of Set 6 | toliary\n",
      "City not found. Skipping...\n",
      "Processing Record 4 of Set 6 | guardiagrele\n",
      "Processing Record 5 of Set 6 | waipawa\n",
      "Processing Record 6 of Set 6 | tiksi\n",
      "Processing Record 7 of Set 6 | pahalgam\n",
      "Processing Record 8 of Set 6 | nsanje\n",
      "Processing Record 9 of Set 6 | jacareacanga\n",
      "Processing Record 10 of Set 6 | deputatskiy\n",
      "Processing Record 11 of Set 6 | valga\n",
      "Processing Record 12 of Set 6 | saint george\n",
      "Processing Record 13 of Set 6 | alofi\n",
      "Processing Record 14 of Set 6 | kimbe\n",
      "Processing Record 15 of Set 6 | verkh-usugli\n",
      "Processing Record 16 of Set 6 | camana\n",
      "Processing Record 17 of Set 6 | hasilpur\n",
      "Processing Record 18 of Set 6 | dibaya\n",
      "City not found. Skipping...\n",
      "Processing Record 19 of Set 6 | can tho\n",
      "Processing Record 20 of Set 6 | bihoro\n",
      "Processing Record 21 of Set 6 | minsk\n",
      "Processing Record 22 of Set 6 | lolua\n",
      "City not found. Skipping...\n",
      "Processing Record 23 of Set 6 | bangui\n",
      "Processing Record 24 of Set 6 | bar harbor\n",
      "Processing Record 25 of Set 6 | kalaleh\n",
      "Processing Record 26 of Set 6 | buluang\n",
      "Processing Record 27 of Set 6 | torbat-e jam\n",
      "Processing Record 28 of Set 6 | ciudad bolivar\n",
      "Processing Record 29 of Set 6 | mahon\n",
      "Processing Record 30 of Set 6 | tura\n",
      "Processing Record 31 of Set 6 | ballina\n",
      "Processing Record 32 of Set 6 | sabha\n",
      "Processing Record 33 of Set 6 | matamoros\n",
      "Processing Record 34 of Set 6 | oriximina\n",
      "Processing Record 35 of Set 6 | hounde\n",
      "Processing Record 36 of Set 6 | mouzakion\n",
      "City not found. Skipping...\n",
      "Processing Record 37 of Set 6 | codrington\n",
      "Processing Record 38 of Set 6 | santa eulalia del rio\n",
      "City not found. Skipping...\n",
      "Processing Record 39 of Set 6 | longyearbyen\n",
      "Processing Record 40 of Set 6 | naze\n",
      "Processing Record 41 of Set 6 | altea\n",
      "Processing Record 42 of Set 6 | bilma\n",
      "Processing Record 43 of Set 6 | shubarkuduk\n",
      "Processing Record 44 of Set 6 | dauphin\n",
      "Processing Record 45 of Set 6 | severo-yeniseyskiy\n",
      "Processing Record 46 of Set 6 | aykhal\n",
      "Processing Record 47 of Set 6 | zhanaozen\n",
      "Processing Record 48 of Set 6 | kaitangata\n",
      "Processing Record 49 of Set 6 | hovd\n",
      "Processing Record 0 of Set 7 | asfi\n",
      "Processing Record 1 of Set 7 | iralaya\n",
      "Processing Record 2 of Set 7 | canita\n",
      "Processing Record 3 of Set 7 | upington\n",
      "Processing Record 4 of Set 7 | otane\n",
      "Processing Record 5 of Set 7 | prince george\n",
      "Processing Record 6 of Set 7 | colares\n",
      "Processing Record 7 of Set 7 | tacoronte\n",
      "Processing Record 8 of Set 7 | atikokan\n",
      "Processing Record 9 of Set 7 | brae\n",
      "Processing Record 10 of Set 7 | nelson bay\n",
      "Processing Record 11 of Set 7 | mabaruma\n",
      "Processing Record 12 of Set 7 | sibolga\n",
      "Processing Record 13 of Set 7 | provideniya\n",
      "Processing Record 14 of Set 7 | honningsvag\n",
      "Processing Record 15 of Set 7 | chuy\n",
      "Processing Record 16 of Set 7 | chermen\n",
      "Processing Record 17 of Set 7 | kodiak\n",
      "Processing Record 18 of Set 7 | whyalla\n",
      "Processing Record 19 of Set 7 | egvekinot\n",
      "Processing Record 20 of Set 7 | dingle\n",
      "Processing Record 21 of Set 7 | parintins\n",
      "Processing Record 22 of Set 7 | barcelona\n",
      "Processing Record 23 of Set 7 | fort nelson\n",
      "Processing Record 24 of Set 7 | shamary\n",
      "Processing Record 25 of Set 7 | yangjiang\n",
      "Processing Record 26 of Set 7 | safakulevo\n",
      "Processing Record 27 of Set 7 | at-bashi\n",
      "Processing Record 28 of Set 7 | ossora\n",
      "Processing Record 29 of Set 7 | gap\n",
      "Processing Record 30 of Set 7 | villa carlos paz\n",
      "Processing Record 31 of Set 7 | alice springs\n",
      "Processing Record 32 of Set 7 | eureka\n",
      "Processing Record 33 of Set 7 | puerto ayora\n",
      "Processing Record 34 of Set 7 | diffa\n",
      "Processing Record 35 of Set 7 | touros\n",
      "Processing Record 36 of Set 7 | panaba\n",
      "Processing Record 37 of Set 7 | mentok\n",
      "City not found. Skipping...\n",
      "Processing Record 38 of Set 7 | rudsar\n",
      "Processing Record 39 of Set 7 | babanusah\n",
      "City not found. Skipping...\n",
      "Processing Record 40 of Set 7 | warri\n",
      "Processing Record 41 of Set 7 | kintinku\n",
      "Processing Record 42 of Set 7 | knysna\n",
      "Processing Record 43 of Set 7 | celestun\n",
      "Processing Record 44 of Set 7 | ati\n",
      "Processing Record 45 of Set 7 | nanchang\n",
      "Processing Record 46 of Set 7 | lorengau\n",
      "Processing Record 47 of Set 7 | pangnirtung\n",
      "Processing Record 48 of Set 7 | inirida\n",
      "Processing Record 49 of Set 7 | artyom\n",
      "Processing Record 0 of Set 8 | poronaysk\n",
      "Processing Record 1 of Set 8 | hofn\n",
      "Processing Record 2 of Set 8 | rocha\n",
      "Processing Record 3 of Set 8 | valdosta\n",
      "Processing Record 4 of Set 8 | zhangye\n",
      "Processing Record 5 of Set 8 | kangaba\n",
      "Processing Record 6 of Set 8 | dwarka\n",
      "Processing Record 7 of Set 8 | khatanga\n",
      "Processing Record 8 of Set 8 | arraial do cabo\n",
      "Processing Record 9 of Set 8 | mount isa\n",
      "Processing Record 10 of Set 8 | gigmoto\n",
      "Processing Record 11 of Set 8 | shahr-e babak\n",
      "Processing Record 12 of Set 8 | puli\n",
      "Processing Record 13 of Set 8 | harper\n",
      "Processing Record 14 of Set 8 | tevaitoa\n",
      "Processing Record 15 of Set 8 | amparafaravola\n",
      "Processing Record 16 of Set 8 | clyde river\n",
      "Processing Record 17 of Set 8 | san pedro\n",
      "Processing Record 18 of Set 8 | bangangte\n",
      "Processing Record 19 of Set 8 | zavyalovo\n"
     ]
    },
    {
     "name": "stdout",
     "output_type": "stream",
     "text": [
      "Processing Record 20 of Set 8 | cap malheureux\n",
      "Processing Record 21 of Set 8 | nikolskoye\n",
      "Processing Record 22 of Set 8 | shimoda\n",
      "Processing Record 23 of Set 8 | kawalu\n",
      "Processing Record 24 of Set 8 | luz\n",
      "Processing Record 25 of Set 8 | tarko-sale\n",
      "Processing Record 26 of Set 8 | hachinohe\n",
      "Processing Record 27 of Set 8 | xichang\n",
      "Processing Record 28 of Set 8 | mapiripan\n",
      "Processing Record 29 of Set 8 | aflu\n",
      "City not found. Skipping...\n",
      "Processing Record 30 of Set 8 | opuwo\n",
      "Processing Record 31 of Set 8 | manica\n",
      "Processing Record 32 of Set 8 | tigil\n",
      "Processing Record 33 of Set 8 | sidi ali\n",
      "Processing Record 34 of Set 8 | comodoro rivadavia\n",
      "Processing Record 35 of Set 8 | filadelfia\n",
      "Processing Record 36 of Set 8 | komsomolskiy\n",
      "Processing Record 37 of Set 8 | katsuura\n",
      "Processing Record 38 of Set 8 | mazyr\n",
      "Processing Record 39 of Set 8 | ishurdi\n",
      "Processing Record 40 of Set 8 | juybar\n",
      "Processing Record 41 of Set 8 | kamloops\n",
      "Processing Record 42 of Set 8 | richards bay\n",
      "Processing Record 43 of Set 8 | corinto\n",
      "Processing Record 44 of Set 8 | baykit\n",
      "Processing Record 45 of Set 8 | port-gentil\n",
      "Processing Record 46 of Set 8 | bacolod\n",
      "Processing Record 47 of Set 8 | pomabamba\n",
      "Processing Record 48 of Set 8 | kathu\n",
      "Processing Record 49 of Set 8 | bhimunipatnam\n",
      "Processing Record 0 of Set 9 | rolim de moura\n",
      "City not found. Skipping...\n",
      "Processing Record 1 of Set 9 | sorvag\n",
      "City not found. Skipping...\n",
      "Processing Record 2 of Set 9 | hervey bay\n",
      "Processing Record 3 of Set 9 | san ignacio\n",
      "Processing Record 4 of Set 9 | kaeo\n",
      "Processing Record 5 of Set 9 | jiangkou\n",
      "Processing Record 6 of Set 9 | cheyenne\n",
      "Processing Record 7 of Set 9 | vila velha\n",
      "Processing Record 8 of Set 9 | san quintin\n",
      "Processing Record 9 of Set 9 | flagstaff\n",
      "Processing Record 10 of Set 9 | kroonstad\n",
      "Processing Record 11 of Set 9 | gat\n",
      "Processing Record 12 of Set 9 | killybegs\n",
      "Processing Record 13 of Set 9 | rantoul\n",
      "Processing Record 14 of Set 9 | ohaba lunga\n",
      "City not found. Skipping...\n",
      "Processing Record 15 of Set 9 | tahta\n",
      "Processing Record 16 of Set 9 | yumen\n",
      "Processing Record 17 of Set 9 | mahebourg\n",
      "Processing Record 18 of Set 9 | chute-aux-outardes\n",
      "Processing Record 19 of Set 9 | xingcheng\n",
      "Processing Record 20 of Set 9 | goderich\n",
      "Processing Record 21 of Set 9 | bulaevo\n",
      "Processing Record 22 of Set 9 | nanyamba\n",
      "Processing Record 23 of Set 9 | xuzhou\n",
      "Processing Record 24 of Set 9 | sao joao da barra\n",
      "Processing Record 25 of Set 9 | port-cartier\n",
      "Processing Record 26 of Set 9 | quatre cocos\n",
      "Processing Record 27 of Set 9 | namibe\n",
      "Processing Record 28 of Set 9 | agadez\n",
      "Processing Record 29 of Set 9 | lieksa\n",
      "Processing Record 30 of Set 9 | gorontalo\n",
      "Processing Record 31 of Set 9 | joao pinheiro\n",
      "Processing Record 32 of Set 9 | orlik\n",
      "Processing Record 33 of Set 9 | thinadhoo\n",
      "Processing Record 34 of Set 9 | asilah\n",
      "Processing Record 35 of Set 9 | consett\n",
      "Processing Record 36 of Set 9 | salekhard\n",
      "Processing Record 37 of Set 9 | kamenskoye\n",
      "City not found. Skipping...\n",
      "Processing Record 38 of Set 9 | acapulco\n",
      "Processing Record 39 of Set 9 | bayir\n",
      "Processing Record 40 of Set 9 | duku\n",
      "Processing Record 41 of Set 9 | pak phanang\n",
      "Processing Record 42 of Set 9 | leh\n",
      "Processing Record 43 of Set 9 | avera\n",
      "Processing Record 44 of Set 9 | liverpool\n",
      "Processing Record 45 of Set 9 | pacific grove\n",
      "Processing Record 46 of Set 9 | anori\n",
      "Processing Record 47 of Set 9 | skaerbaek\n",
      "Processing Record 48 of Set 9 | quchan\n",
      "Processing Record 49 of Set 9 | louis trichardt\n",
      "Processing Record 0 of Set 10 | itarema\n",
      "Processing Record 1 of Set 10 | karratha\n",
      "Processing Record 2 of Set 10 | panlaitan\n",
      "Processing Record 3 of Set 10 | zhelyabovka\n",
      "Processing Record 4 of Set 10 | jiaocheng\n",
      "Processing Record 5 of Set 10 | meulaboh\n",
      "Processing Record 6 of Set 10 | salalah\n",
      "Processing Record 7 of Set 10 | os\n",
      "City not found. Skipping...\n",
      "Processing Record 8 of Set 10 | eldikan\n",
      "City not found. Skipping...\n",
      "Processing Record 9 of Set 10 | effium\n",
      "Processing Record 10 of Set 10 | spata\n",
      "Processing Record 11 of Set 10 | zurrieq\n",
      "Processing Record 12 of Set 10 | warrnambool\n",
      "Processing Record 13 of Set 10 | gharb\n",
      "City not found. Skipping...\n",
      "Processing Record 14 of Set 10 | san policarpo\n",
      "Processing Record 15 of Set 10 | itoman\n",
      "Processing Record 16 of Set 10 | staunton\n",
      "Processing Record 17 of Set 10 | aswan\n",
      "Processing Record 18 of Set 10 | noo\n",
      "Processing Record 19 of Set 10 | addis zemen\n",
      "City not found. Skipping...\n",
      "Processing Record 20 of Set 10 | golden rock\n",
      "City not found. Skipping...\n",
      "Processing Record 21 of Set 10 | khetia\n",
      "Processing Record 22 of Set 10 | zavallya\n",
      "Processing Record 23 of Set 10 | forestville\n",
      "Processing Record 24 of Set 10 | koumac\n",
      "Processing Record 25 of Set 10 | upata\n",
      "Processing Record 26 of Set 10 | pampa\n",
      "Processing Record 27 of Set 10 | maputo\n",
      "Processing Record 28 of Set 10 | seoul\n",
      "Processing Record 29 of Set 10 | dunedin\n",
      "Processing Record 30 of Set 10 | ulaangom\n",
      "Processing Record 31 of Set 10 | rio grande\n",
      "Processing Record 32 of Set 10 | champerico\n",
      "Processing Record 33 of Set 10 | luderitz\n",
      "Processing Record 34 of Set 10 | iquique\n",
      "Processing Record 35 of Set 10 | cabedelo\n",
      "Processing Record 36 of Set 10 | keti bandar\n",
      "Processing Record 37 of Set 10 | azanka\n",
      "Processing Record 38 of Set 10 | oktyabrskoye\n",
      "Processing Record 39 of Set 10 | marrakesh\n",
      "Processing Record 40 of Set 10 | arcos\n",
      "Processing Record 41 of Set 10 | quesada\n",
      "Processing Record 42 of Set 10 | erenhot\n",
      "Processing Record 43 of Set 10 | severodvinsk\n",
      "Processing Record 44 of Set 10 | campbell river\n",
      "Processing Record 45 of Set 10 | houlton\n",
      "Processing Record 46 of Set 10 | lavrentiya\n",
      "Processing Record 47 of Set 10 | bay roberts\n",
      "Processing Record 48 of Set 10 | winslow\n",
      "Processing Record 49 of Set 10 | great yarmouth\n",
      "Processing Record 0 of Set 11 | nerchinskiy zavod\n",
      "Processing Record 1 of Set 11 | high level\n",
      "Processing Record 2 of Set 11 | nome\n",
      "Processing Record 3 of Set 11 | cururupu\n",
      "Processing Record 4 of Set 11 | pulong gubat\n",
      "Processing Record 5 of Set 11 | maymanak\n",
      "City not found. Skipping...\n",
      "Processing Record 6 of Set 11 | antofagasta\n",
      "Processing Record 7 of Set 11 | rosetta\n",
      "Processing Record 8 of Set 11 | zhuhai\n",
      "Processing Record 9 of Set 11 | beringovskiy\n",
      "Processing Record 10 of Set 11 | stoyba\n",
      "City not found. Skipping...\n",
      "Processing Record 11 of Set 11 | hohhot\n",
      "Processing Record 12 of Set 11 | samarai\n",
      "Processing Record 13 of Set 11 | zhigansk\n",
      "Processing Record 14 of Set 11 | russell\n",
      "Processing Record 15 of Set 11 | brigantine\n",
      "Processing Record 16 of Set 11 | adet\n",
      "Processing Record 17 of Set 11 | terrace bay\n",
      "Processing Record 18 of Set 11 | lethem\n",
      "Processing Record 19 of Set 11 | sao domingos do maranhao\n",
      "Processing Record 20 of Set 11 | boyolangu\n",
      "Processing Record 21 of Set 11 | bargal\n",
      "City not found. Skipping...\n",
      "Processing Record 22 of Set 11 | arai\n",
      "Processing Record 23 of Set 11 | marsa matruh\n",
      "Processing Record 24 of Set 11 | kavaratti\n",
      "Processing Record 25 of Set 11 | coaraci\n",
      "Processing Record 26 of Set 11 | geraldton\n",
      "Processing Record 27 of Set 11 | mosalsk\n",
      "Processing Record 28 of Set 11 | aksarka\n",
      "Processing Record 29 of Set 11 | villa oliva\n",
      "City not found. Skipping...\n",
      "Processing Record 30 of Set 11 | pauca\n",
      "Processing Record 31 of Set 11 | quelimane\n",
      "Processing Record 32 of Set 11 | kifri\n",
      "Processing Record 33 of Set 11 | tamano\n",
      "Processing Record 34 of Set 11 | vanimo\n",
      "Processing Record 35 of Set 11 | howard springs\n",
      "Processing Record 36 of Set 11 | bera\n",
      "Processing Record 37 of Set 11 | boende\n",
      "Processing Record 38 of Set 11 | ituiutaba\n",
      "Processing Record 39 of Set 11 | zima\n",
      "Processing Record 40 of Set 11 | kenora\n",
      "Processing Record 41 of Set 11 | ambovombe\n",
      "Processing Record 42 of Set 11 | shahrud\n",
      "Processing Record 43 of Set 11 | great falls\n",
      "Processing Record 44 of Set 11 | mae hong son\n",
      "Processing Record 45 of Set 11 | tokur\n",
      "Processing Record 46 of Set 11 | san jose\n",
      "Processing Record 47 of Set 11 | la ronge\n",
      "Processing Record 48 of Set 11 | westport\n",
      "Processing Record 49 of Set 11 | yagodnoye\n",
      "Processing Record 0 of Set 12 | skovorodino\n",
      "Processing Record 1 of Set 12 | moranbah\n",
      "Processing Record 2 of Set 12 | necochea\n",
      "Processing Record 3 of Set 12 | biloela\n",
      "Processing Record 4 of Set 12 | cascais\n",
      "Processing Record 5 of Set 12 | cam ranh\n",
      "Processing Record 6 of Set 12 | kabanjahe\n",
      "Processing Record 7 of Set 12 | abu kamal\n"
     ]
    },
    {
     "name": "stdout",
     "output_type": "stream",
     "text": [
      "Processing Record 8 of Set 12 | ust-kuyga\n",
      "Processing Record 9 of Set 12 | roblin\n",
      "Processing Record 10 of Set 12 | dzaoudzi\n",
      "Processing Record 11 of Set 12 | gamba\n",
      "Processing Record 12 of Set 12 | sechura\n",
      "Processing Record 13 of Set 12 | nguiu\n",
      "City not found. Skipping...\n",
      "Processing Record 14 of Set 12 | taksimo\n",
      "Processing Record 15 of Set 12 | san cristobal\n",
      "Processing Record 16 of Set 12 | bermejo\n",
      "Processing Record 17 of Set 12 | bara\n",
      "Processing Record 18 of Set 12 | isangel\n",
      "Processing Record 19 of Set 12 | spassk-ryazanskiy\n",
      "Processing Record 20 of Set 12 | lagos\n",
      "Processing Record 21 of Set 12 | mogadishu\n",
      "Processing Record 22 of Set 12 | innisfail\n",
      "Processing Record 23 of Set 12 | byron bay\n",
      "Processing Record 24 of Set 12 | weligama\n",
      "Processing Record 25 of Set 12 | amga\n",
      "Processing Record 26 of Set 12 | ambon\n",
      "Processing Record 27 of Set 12 | atar\n",
      "Processing Record 28 of Set 12 | san joaquin\n",
      "Processing Record 29 of Set 12 | luau\n",
      "Processing Record 30 of Set 12 | mont-dore\n",
      "Processing Record 31 of Set 12 | grimshaw\n",
      "Processing Record 32 of Set 12 | marabba\n",
      "Processing Record 33 of Set 12 | barawe\n",
      "City not found. Skipping...\n",
      "Processing Record 34 of Set 12 | kalmunai\n",
      "Processing Record 35 of Set 12 | phalaborwa\n",
      "Processing Record 36 of Set 12 | teplodar\n",
      "Processing Record 37 of Set 12 | katobu\n",
      "Processing Record 38 of Set 12 | beyneu\n",
      "Processing Record 39 of Set 12 | fonte boa\n",
      "Processing Record 40 of Set 12 | vaitupu\n",
      "City not found. Skipping...\n",
      "Processing Record 41 of Set 12 | sorong\n",
      "Processing Record 42 of Set 12 | chicama\n",
      "Processing Record 43 of Set 12 | siva\n",
      "Processing Record 44 of Set 12 | mstera\n",
      "Processing Record 45 of Set 12 | loiza\n",
      "Processing Record 46 of Set 12 | burica\n",
      "City not found. Skipping...\n",
      "Processing Record 47 of Set 12 | montanha\n",
      "Processing Record 48 of Set 12 | san pedro de macoris\n",
      "Processing Record 49 of Set 12 | vilhena\n",
      "Processing Record 0 of Set 13 | tautira\n",
      "Processing Record 1 of Set 13 | bijapur\n",
      "Processing Record 2 of Set 13 | lephepe\n",
      "City not found. Skipping...\n",
      "Processing Record 3 of Set 13 | neiafu\n",
      "Processing Record 4 of Set 13 | amapa\n",
      "Processing Record 5 of Set 13 | acarau\n",
      "Processing Record 6 of Set 13 | borgarnes\n",
      "Processing Record 7 of Set 13 | bykovo\n",
      "Processing Record 8 of Set 13 | pisco\n",
      "Processing Record 9 of Set 13 | caravelas\n",
      "Processing Record 10 of Set 13 | valparaiso\n",
      "Processing Record 11 of Set 13 | skalistyy\n",
      "City not found. Skipping...\n",
      "Processing Record 12 of Set 13 | capaci\n",
      "Processing Record 13 of Set 13 | aitape\n",
      "Processing Record 14 of Set 13 | barra do garcas\n",
      "Processing Record 15 of Set 13 | inongo\n",
      "Processing Record 16 of Set 13 | parry sound\n",
      "Processing Record 17 of Set 13 | atagay\n",
      "Processing Record 18 of Set 13 | hangu\n",
      "Processing Record 19 of Set 13 | gualeguaychu\n",
      "Processing Record 20 of Set 13 | naryan-mar\n",
      "Processing Record 21 of Set 13 | kroya\n",
      "Processing Record 22 of Set 13 | flinders\n",
      "Processing Record 23 of Set 13 | tyret pervaya\n",
      "Processing Record 24 of Set 13 | biak\n",
      "Processing Record 25 of Set 13 | porto novo\n",
      "Processing Record 26 of Set 13 | fairbanks\n",
      "Processing Record 27 of Set 13 | lipin bor\n",
      "Processing Record 28 of Set 13 | zacualtipan\n",
      "Processing Record 29 of Set 13 | moree\n",
      "Processing Record 30 of Set 13 | binga\n",
      "Processing Record 31 of Set 13 | pindushi\n",
      "Processing Record 32 of Set 13 | harindanga\n",
      "-----------------------------\n",
      "Data Retrieval Complete      \n",
      "-----------------------------\n"
     ]
    }
   ],
   "source": [
    "# Set the API base URL\n",
    "url = \"https://api.openweathermap.org/data/2.5/weather?\"\n",
    "\n",
    "# Define an empty list to fetch the weather data for each city\n",
    "city_data = []\n",
    "\n",
    "# Print to logger\n",
    "print(\"Beginning Data Retrieval     \")\n",
    "print(\"-----------------------------\")\n",
    "\n",
    "# Create counters\n",
    "record_count = 1\n",
    "set_count = 1\n",
    "\n",
    "# Loop through all the cities in our list to fetch weather data\n",
    "for i, city in enumerate(cities):\n",
    "        \n",
    "    # Group cities in sets of 50 for logging purposes\n",
    "    if (i % 50 == 0 and i >= 50):\n",
    "        set_count += 1\n",
    "        record_count = 0\n",
    "\n",
    "    # Create endpoint URL with each city\n",
    "    city_url = url + \"appid=\" + weather_api_key + \"&q=\" + city\n",
    "    \n",
    "    # Log the url, record, and set numbers\n",
    "    print(\"Processing Record %s of Set %s | %s\" % (record_count, set_count, city))\n",
    "\n",
    "    # Add 1 to the record count\n",
    "    record_count += 1\n",
    "\n",
    "    # Run an API request for each of the cities\n",
    "    weather_response = requests.get(city_url)\n",
    "    weather_json = weather_response.json()\n",
    "    try:\n",
    "        # Parse the JSON and retrieve data\n",
    "        city_weather = weather_json\n",
    "\n",
    "        # Parse out latitude, longitude, max temp, humidity, cloudiness, wind speed, country, and date\n",
    "        city_lat = city_weather['coord']['lat']\n",
    "        city_lng =  city_weather['coord']['lon']\n",
    "        city_max_temp =  city_weather['main']['temp_max']\n",
    "        city_humidity =  city_weather['main']['humidity']\n",
    "        city_clouds =  city_weather['clouds']['all']\n",
    "        city_wind =  city_weather['wind']['speed']\n",
    "        city_country = city_weather['sys']['country']\n",
    "        city_date = city_weather['dt']\n",
    "\n",
    "        # Append the City information into city_data list\n",
    "        city_data.append({\"City\": city, \n",
    "                          \"Lat\": city_lat, \n",
    "                          \"Lng\": city_lng, \n",
    "                          \"Max Temp\": city_max_temp,\n",
    "                          \"Humidity\": city_humidity,\n",
    "                          \"Cloudiness\": city_clouds,\n",
    "                          \"Wind Speed\": city_wind,\n",
    "                          \"Country\": city_country,\n",
    "                          \"Date\": city_date})\n",
    "\n",
    "    # If an error is experienced, skip the city\n",
    "    except:\n",
    "        print(\"City not found. Skipping...\")\n",
    "        pass\n",
    "              \n",
    "# Indicate that Data Loading is complete \n",
    "print(\"-----------------------------\")\n",
    "print(\"Data Retrieval Complete      \")\n",
    "print(\"-----------------------------\")"
   ]
  },
  {
   "cell_type": "code",
   "execution_count": 4,
   "metadata": {},
   "outputs": [
    {
     "data": {
      "text/plain": [
       "City          574\n",
       "Lat           574\n",
       "Lng           574\n",
       "Max Temp      574\n",
       "Humidity      574\n",
       "Cloudiness    574\n",
       "Wind Speed    574\n",
       "Country       574\n",
       "Date          574\n",
       "dtype: int64"
      ]
     },
     "execution_count": 4,
     "metadata": {},
     "output_type": "execute_result"
    }
   ],
   "source": [
    "# Convert the cities weather data into a Pandas DataFrame\n",
    "city_data_df = pd.DataFrame(city_data)\n",
    "city_data_df['Max Temp'] = city_data_df['Max Temp']-273.15\n",
    "\n",
    "\n",
    "# Show Record Count\n",
    "city_data_df.count()"
   ]
  },
  {
   "cell_type": "code",
   "execution_count": 5,
   "metadata": {},
   "outputs": [
    {
     "data": {
      "text/html": [
       "<div>\n",
       "<style scoped>\n",
       "    .dataframe tbody tr th:only-of-type {\n",
       "        vertical-align: middle;\n",
       "    }\n",
       "\n",
       "    .dataframe tbody tr th {\n",
       "        vertical-align: top;\n",
       "    }\n",
       "\n",
       "    .dataframe thead th {\n",
       "        text-align: right;\n",
       "    }\n",
       "</style>\n",
       "<table border=\"1\" class=\"dataframe\">\n",
       "  <thead>\n",
       "    <tr style=\"text-align: right;\">\n",
       "      <th></th>\n",
       "      <th>City</th>\n",
       "      <th>Lat</th>\n",
       "      <th>Lng</th>\n",
       "      <th>Max Temp</th>\n",
       "      <th>Humidity</th>\n",
       "      <th>Cloudiness</th>\n",
       "      <th>Wind Speed</th>\n",
       "      <th>Country</th>\n",
       "      <th>Date</th>\n",
       "    </tr>\n",
       "  </thead>\n",
       "  <tbody>\n",
       "    <tr>\n",
       "      <th>0</th>\n",
       "      <td>new norfolk</td>\n",
       "      <td>-42.7826</td>\n",
       "      <td>147.0587</td>\n",
       "      <td>10.72</td>\n",
       "      <td>63</td>\n",
       "      <td>99</td>\n",
       "      <td>0.45</td>\n",
       "      <td>AU</td>\n",
       "      <td>1670264953</td>\n",
       "    </tr>\n",
       "    <tr>\n",
       "      <th>1</th>\n",
       "      <td>fortuna</td>\n",
       "      <td>40.5982</td>\n",
       "      <td>-124.1573</td>\n",
       "      <td>9.40</td>\n",
       "      <td>93</td>\n",
       "      <td>75</td>\n",
       "      <td>5.66</td>\n",
       "      <td>US</td>\n",
       "      <td>1670264954</td>\n",
       "    </tr>\n",
       "    <tr>\n",
       "      <th>2</th>\n",
       "      <td>georgetown</td>\n",
       "      <td>5.4112</td>\n",
       "      <td>100.3354</td>\n",
       "      <td>27.91</td>\n",
       "      <td>86</td>\n",
       "      <td>40</td>\n",
       "      <td>0.51</td>\n",
       "      <td>MY</td>\n",
       "      <td>1670264694</td>\n",
       "    </tr>\n",
       "    <tr>\n",
       "      <th>3</th>\n",
       "      <td>vanavara</td>\n",
       "      <td>60.3400</td>\n",
       "      <td>102.2797</td>\n",
       "      <td>-11.59</td>\n",
       "      <td>86</td>\n",
       "      <td>100</td>\n",
       "      <td>6.38</td>\n",
       "      <td>RU</td>\n",
       "      <td>1670264696</td>\n",
       "    </tr>\n",
       "    <tr>\n",
       "      <th>4</th>\n",
       "      <td>atuona</td>\n",
       "      <td>-9.8000</td>\n",
       "      <td>-139.0333</td>\n",
       "      <td>24.91</td>\n",
       "      <td>78</td>\n",
       "      <td>82</td>\n",
       "      <td>7.36</td>\n",
       "      <td>PF</td>\n",
       "      <td>1670264959</td>\n",
       "    </tr>\n",
       "  </tbody>\n",
       "</table>\n",
       "</div>"
      ],
      "text/plain": [
       "          City      Lat       Lng  Max Temp  Humidity  Cloudiness  Wind Speed  \\\n",
       "0  new norfolk -42.7826  147.0587     10.72        63          99        0.45   \n",
       "1      fortuna  40.5982 -124.1573      9.40        93          75        5.66   \n",
       "2   georgetown   5.4112  100.3354     27.91        86          40        0.51   \n",
       "3     vanavara  60.3400  102.2797    -11.59        86         100        6.38   \n",
       "4       atuona  -9.8000 -139.0333     24.91        78          82        7.36   \n",
       "\n",
       "  Country        Date  \n",
       "0      AU  1670264953  \n",
       "1      US  1670264954  \n",
       "2      MY  1670264694  \n",
       "3      RU  1670264696  \n",
       "4      PF  1670264959  "
      ]
     },
     "execution_count": 5,
     "metadata": {},
     "output_type": "execute_result"
    }
   ],
   "source": [
    "# Display sample data\n",
    "city_data_df.head()"
   ]
  },
  {
   "cell_type": "code",
   "execution_count": 6,
   "metadata": {},
   "outputs": [],
   "source": [
    "# Export the City_Data into a csv\n",
    "city_data_df.to_csv(\"../output_data/cities.csv\", index_label=\"City_ID\")"
   ]
  },
  {
   "cell_type": "code",
   "execution_count": 7,
   "metadata": {},
   "outputs": [
    {
     "data": {
      "text/html": [
       "<div>\n",
       "<style scoped>\n",
       "    .dataframe tbody tr th:only-of-type {\n",
       "        vertical-align: middle;\n",
       "    }\n",
       "\n",
       "    .dataframe tbody tr th {\n",
       "        vertical-align: top;\n",
       "    }\n",
       "\n",
       "    .dataframe thead th {\n",
       "        text-align: right;\n",
       "    }\n",
       "</style>\n",
       "<table border=\"1\" class=\"dataframe\">\n",
       "  <thead>\n",
       "    <tr style=\"text-align: right;\">\n",
       "      <th></th>\n",
       "      <th>City</th>\n",
       "      <th>Lat</th>\n",
       "      <th>Lng</th>\n",
       "      <th>Max Temp</th>\n",
       "      <th>Humidity</th>\n",
       "      <th>Cloudiness</th>\n",
       "      <th>Wind Speed</th>\n",
       "      <th>Country</th>\n",
       "      <th>Date</th>\n",
       "    </tr>\n",
       "    <tr>\n",
       "      <th>City_ID</th>\n",
       "      <th></th>\n",
       "      <th></th>\n",
       "      <th></th>\n",
       "      <th></th>\n",
       "      <th></th>\n",
       "      <th></th>\n",
       "      <th></th>\n",
       "      <th></th>\n",
       "      <th></th>\n",
       "    </tr>\n",
       "  </thead>\n",
       "  <tbody>\n",
       "    <tr>\n",
       "      <th>0</th>\n",
       "      <td>new norfolk</td>\n",
       "      <td>-42.7826</td>\n",
       "      <td>147.0587</td>\n",
       "      <td>10.72</td>\n",
       "      <td>63</td>\n",
       "      <td>99</td>\n",
       "      <td>0.45</td>\n",
       "      <td>AU</td>\n",
       "      <td>1670264953</td>\n",
       "    </tr>\n",
       "    <tr>\n",
       "      <th>1</th>\n",
       "      <td>fortuna</td>\n",
       "      <td>40.5982</td>\n",
       "      <td>-124.1573</td>\n",
       "      <td>9.40</td>\n",
       "      <td>93</td>\n",
       "      <td>75</td>\n",
       "      <td>5.66</td>\n",
       "      <td>US</td>\n",
       "      <td>1670264954</td>\n",
       "    </tr>\n",
       "    <tr>\n",
       "      <th>2</th>\n",
       "      <td>georgetown</td>\n",
       "      <td>5.4112</td>\n",
       "      <td>100.3354</td>\n",
       "      <td>27.91</td>\n",
       "      <td>86</td>\n",
       "      <td>40</td>\n",
       "      <td>0.51</td>\n",
       "      <td>MY</td>\n",
       "      <td>1670264694</td>\n",
       "    </tr>\n",
       "    <tr>\n",
       "      <th>3</th>\n",
       "      <td>vanavara</td>\n",
       "      <td>60.3400</td>\n",
       "      <td>102.2797</td>\n",
       "      <td>-11.59</td>\n",
       "      <td>86</td>\n",
       "      <td>100</td>\n",
       "      <td>6.38</td>\n",
       "      <td>RU</td>\n",
       "      <td>1670264696</td>\n",
       "    </tr>\n",
       "    <tr>\n",
       "      <th>4</th>\n",
       "      <td>atuona</td>\n",
       "      <td>-9.8000</td>\n",
       "      <td>-139.0333</td>\n",
       "      <td>24.91</td>\n",
       "      <td>78</td>\n",
       "      <td>82</td>\n",
       "      <td>7.36</td>\n",
       "      <td>PF</td>\n",
       "      <td>1670264959</td>\n",
       "    </tr>\n",
       "  </tbody>\n",
       "</table>\n",
       "</div>"
      ],
      "text/plain": [
       "                City      Lat       Lng  Max Temp  Humidity  Cloudiness  \\\n",
       "City_ID                                                                   \n",
       "0        new norfolk -42.7826  147.0587     10.72        63          99   \n",
       "1            fortuna  40.5982 -124.1573      9.40        93          75   \n",
       "2         georgetown   5.4112  100.3354     27.91        86          40   \n",
       "3           vanavara  60.3400  102.2797    -11.59        86         100   \n",
       "4             atuona  -9.8000 -139.0333     24.91        78          82   \n",
       "\n",
       "         Wind Speed Country        Date  \n",
       "City_ID                                  \n",
       "0              0.45      AU  1670264953  \n",
       "1              5.66      US  1670264954  \n",
       "2              0.51      MY  1670264694  \n",
       "3              6.38      RU  1670264696  \n",
       "4              7.36      PF  1670264959  "
      ]
     },
     "execution_count": 7,
     "metadata": {},
     "output_type": "execute_result"
    }
   ],
   "source": [
    "# Read saved data\n",
    "city_data_df = pd.read_csv(\"../output_data/cities.csv\", index_col=\"City_ID\")\n",
    "\n",
    "# Display sample data\n",
    "city_data_df.head()"
   ]
  },
  {
   "cell_type": "markdown",
   "metadata": {},
   "source": [
    "### Create the Scatter Plots Requested\n",
    "\n",
    "#### Latitude Vs. Temperature"
   ]
  },
  {
   "cell_type": "code",
   "execution_count": 8,
   "metadata": {
    "tags": []
   },
   "outputs": [
    {
     "data": {
      "image/png": "[encoded data removed]",
      "text/plain": [
       "<Figure size 432x288 with 1 Axes>"
      ]
     },
     "metadata": {
      "needs_background": "light"
     },
     "output_type": "display_data"
    }
   ],
   "source": [
    "# Build scatter plot for latitude vs. temperature\n",
    "plt.scatter(city_data_df[\"Lat\"],city_data_df[\"Max Temp\"])\n",
    "date_of_info = pd.to_datetime(city_data_df['Date'], unit='s').apply(lambda t: t.strftime('%y-%m-%d'))[1]\n",
    "\n",
    "# Incorporate the other graph properties\n",
    "plt.ylabel('Temp (C)')\n",
    "plt.xlabel(\"Latitude\")\n",
    "plt.grid(True)\n",
    "plt.title(f'City Latitute vs Temperature ({date_of_info})')\n",
    "\n",
    "\n",
    "# Save the figure\n",
    "plt.savefig(\"../output_data/Fig1.png\")\n",
    "\n",
    "# Show plot\n",
    "plt.show()"
   ]
  },
  {
   "cell_type": "markdown",
   "metadata": {},
   "source": [
    "#### Latitude Vs. Humidity"
   ]
  },
  {
   "cell_type": "code",
   "execution_count": 9,
   "metadata": {},
   "outputs": [
    {
     "data": {
      "image/png": "[encoded data removed]",
      "text/plain": [
       "<Figure size 432x288 with 1 Axes>"
      ]
     },
     "metadata": {
      "needs_background": "light"
     },
     "output_type": "display_data"
    }
   ],
   "source": [
    "# Build the scatter plots for latitude vs. humidity\n",
    "plt.scatter(city_data_df[\"Lat\"],city_data_df[\"Humidity\"])\n",
    "date_of_info = pd.to_datetime(city_data_df['Date'], unit='s').apply(lambda t: t.strftime('%y-%m-%d'))[1]\n",
    "\n",
    "# Incorporate the other graph properties\n",
    "plt.ylabel('Humidity (%)')\n",
    "plt.xlabel(\"Latitude\")\n",
    "plt.grid(True)\n",
    "plt.title(f'City Latitute vs Humidity ({date_of_info})')\n",
    "\n",
    "\n",
    "# Save the figure\n",
    "plt.savefig(\"../output_data/Fig2.png\")\n",
    "\n",
    "# Show plot\n",
    "plt.show()"
   ]
  },
  {
   "cell_type": "markdown",
   "metadata": {},
   "source": [
    "#### Latitude Vs. Cloudiness"
   ]
  },
  {
   "cell_type": "code",
   "execution_count": 10,
   "metadata": {},
   "outputs": [
    {
     "data": {
      "image/png": "[encoded data removed]",
      "text/plain": [
       "<Figure size 432x288 with 1 Axes>"
      ]
     },
     "metadata": {
      "needs_background": "light"
     },
     "output_type": "display_data"
    }
   ],
   "source": [
    "# Build the scatter plots for latitude vs. cloudiness\n",
    "\n",
    "plt.scatter(city_data_df[\"Lat\"],city_data_df[\"Cloudiness\"])\n",
    "date_of_info = pd.to_datetime(city_data_df['Date'], unit='s').apply(lambda t: t.strftime('%y-%m-%d'))[1]\n",
    "\n",
    "# Incorporate the other graph properties\n",
    "plt.ylabel('Cloudiness (%)')\n",
    "plt.xlabel(\"Latitude\")\n",
    "plt.grid(True)\n",
    "plt.title(f'City Latitute vs Cloudinessd ({date_of_info})')\n",
    "\n",
    "# Save the figure\n",
    "plt.savefig(\"../output_data/Fig3.png\")\n",
    "\n",
    "# Show plot\n",
    "plt.show()"
   ]
  },
  {
   "cell_type": "markdown",
   "metadata": {},
   "source": [
    "#### Latitude vs. Wind Speed Plot"
   ]
  },
  {
   "cell_type": "code",
   "execution_count": 11,
   "metadata": {},
   "outputs": [
    {
     "data": {
      "image/png": "[encoded data removed]",
      "text/plain": [
       "<Figure size 432x288 with 1 Axes>"
      ]
     },
     "metadata": {
      "needs_background": "light"
     },
     "output_type": "display_data"
    }
   ],
   "source": [
    "# Build the scatter plots for latitude vs. wind speed\n",
    "plt.scatter(city_data_df[\"Lat\"],city_data_df[\"Wind Speed\"])\n",
    "date_of_info = pd.to_datetime(city_data_df['Date'], unit='s').apply(lambda t: t.strftime('%y-%m-%d'))[1]\n",
    "\n",
    "# Incorporate the other graph properties\n",
    "plt.ylabel('Wind Speed (m/s)')\n",
    "plt.xlabel(\"Latitude\")\n",
    "plt.grid(True)\n",
    "plt.title(f'City Latitute vs Wind Speed ({date_of_info})')\n",
    "\n",
    "# Save the figure\n",
    "plt.savefig(\"../output_data/Fig4.png\")\n",
    "\n",
    "# Show plot\n",
    "plt.show()"
   ]
  },
  {
   "cell_type": "markdown",
   "metadata": {},
   "source": [
    "---\n",
    "\n",
    "## Requirement 2: Compute Linear Regression for Each Relationship\n"
   ]
  },
  {
   "cell_type": "code",
   "execution_count": 12,
   "metadata": {},
   "outputs": [],
   "source": [
    "# Define a function to create Linear Regression plots\n",
    "\n",
    "def linear_reg(x,y):\n",
    "\n",
    "    (slope, intercept, rvalue, pvalue, stderr) = linregress(x['Lat'],y)\n",
    "    regress_values = slope*x['Lat']+intercept\n",
    "    line_eq = \"y=\" + str(round(slope,2))+\"x +\" + str(round(intercept,2))\n",
    "    \n",
    "    plt.scatter(x['Lat'], y)\n",
    "    plt.plot(x['Lat'],regress_values,\"r-\")\n",
    "    plt.annotate(line_eq,(0.2,0.22),xycoords='figure fraction', fontsize = 13, color = \"black\")\n",
    "\n",
    "    r_squared = round(rvalue**2,2)\n",
    "    plt.annotate(f'the r-value is {r_squared}',(0.2,0.18),xycoords='figure fraction', fontsize = 13, color = \"black\")\n",
    "    plt.xlabel(\"Latitute\")\n",
    "    print(f'the r-value is {r_squared}')"
   ]
  },
  {
   "cell_type": "code",
   "execution_count": 13,
   "metadata": {},
   "outputs": [
    {
     "data": {
      "text/html": [
       "<div>\n",
       "<style scoped>\n",
       "    .dataframe tbody tr th:only-of-type {\n",
       "        vertical-align: middle;\n",
       "    }\n",
       "\n",
       "    .dataframe tbody tr th {\n",
       "        vertical-align: top;\n",
       "    }\n",
       "\n",
       "    .dataframe thead th {\n",
       "        text-align: right;\n",
       "    }\n",
       "</style>\n",
       "<table border=\"1\" class=\"dataframe\">\n",
       "  <thead>\n",
       "    <tr style=\"text-align: right;\">\n",
       "      <th></th>\n",
       "      <th>City</th>\n",
       "      <th>Lat</th>\n",
       "      <th>Lng</th>\n",
       "      <th>Max Temp</th>\n",
       "      <th>Humidity</th>\n",
       "      <th>Cloudiness</th>\n",
       "      <th>Wind Speed</th>\n",
       "      <th>Country</th>\n",
       "      <th>Date</th>\n",
       "    </tr>\n",
       "    <tr>\n",
       "      <th>City_ID</th>\n",
       "      <th></th>\n",
       "      <th></th>\n",
       "      <th></th>\n",
       "      <th></th>\n",
       "      <th></th>\n",
       "      <th></th>\n",
       "      <th></th>\n",
       "      <th></th>\n",
       "      <th></th>\n",
       "    </tr>\n",
       "  </thead>\n",
       "  <tbody>\n",
       "    <tr>\n",
       "      <th>1</th>\n",
       "      <td>fortuna</td>\n",
       "      <td>40.5982</td>\n",
       "      <td>-124.1573</td>\n",
       "      <td>9.40</td>\n",
       "      <td>93</td>\n",
       "      <td>75</td>\n",
       "      <td>5.66</td>\n",
       "      <td>US</td>\n",
       "      <td>1670264954</td>\n",
       "    </tr>\n",
       "    <tr>\n",
       "      <th>2</th>\n",
       "      <td>georgetown</td>\n",
       "      <td>5.4112</td>\n",
       "      <td>100.3354</td>\n",
       "      <td>27.91</td>\n",
       "      <td>86</td>\n",
       "      <td>40</td>\n",
       "      <td>0.51</td>\n",
       "      <td>MY</td>\n",
       "      <td>1670264694</td>\n",
       "    </tr>\n",
       "    <tr>\n",
       "      <th>3</th>\n",
       "      <td>vanavara</td>\n",
       "      <td>60.3400</td>\n",
       "      <td>102.2797</td>\n",
       "      <td>-11.59</td>\n",
       "      <td>86</td>\n",
       "      <td>100</td>\n",
       "      <td>6.38</td>\n",
       "      <td>RU</td>\n",
       "      <td>1670264696</td>\n",
       "    </tr>\n",
       "    <tr>\n",
       "      <th>5</th>\n",
       "      <td>broome</td>\n",
       "      <td>42.2506</td>\n",
       "      <td>-75.8330</td>\n",
       "      <td>7.48</td>\n",
       "      <td>38</td>\n",
       "      <td>0</td>\n",
       "      <td>4.92</td>\n",
       "      <td>US</td>\n",
       "      <td>1670264960</td>\n",
       "    </tr>\n",
       "    <tr>\n",
       "      <th>7</th>\n",
       "      <td>nishihara</td>\n",
       "      <td>26.1842</td>\n",
       "      <td>127.7558</td>\n",
       "      <td>18.60</td>\n",
       "      <td>94</td>\n",
       "      <td>75</td>\n",
       "      <td>10.80</td>\n",
       "      <td>JP</td>\n",
       "      <td>1670264961</td>\n",
       "    </tr>\n",
       "  </tbody>\n",
       "</table>\n",
       "</div>"
      ],
      "text/plain": [
       "               City      Lat       Lng  Max Temp  Humidity  Cloudiness  \\\n",
       "City_ID                                                                  \n",
       "1           fortuna  40.5982 -124.1573      9.40        93          75   \n",
       "2        georgetown   5.4112  100.3354     27.91        86          40   \n",
       "3          vanavara  60.3400  102.2797    -11.59        86         100   \n",
       "5            broome  42.2506  -75.8330      7.48        38           0   \n",
       "7         nishihara  26.1842  127.7558     18.60        94          75   \n",
       "\n",
       "         Wind Speed Country        Date  \n",
       "City_ID                                  \n",
       "1              5.66      US  1670264954  \n",
       "2              0.51      MY  1670264694  \n",
       "3              6.38      RU  1670264696  \n",
       "5              4.92      US  1670264960  \n",
       "7             10.80      JP  1670264961  "
      ]
     },
     "execution_count": 13,
     "metadata": {},
     "output_type": "execute_result"
    }
   ],
   "source": [
    "# Create a DataFrame with the Northern Hemisphere data (Latitude >= 0)\n",
    "northern_hemi_df = city_data_df.loc[city_data_df['Lat']>=0]\n",
    "\n",
    "# Display sample data\n",
    "northern_hemi_df.head()"
   ]
  },
  {
   "cell_type": "code",
   "execution_count": 14,
   "metadata": {},
   "outputs": [
    {
     "data": {
      "text/html": [
       "<div>\n",
       "<style scoped>\n",
       "    .dataframe tbody tr th:only-of-type {\n",
       "        vertical-align: middle;\n",
       "    }\n",
       "\n",
       "    .dataframe tbody tr th {\n",
       "        vertical-align: top;\n",
       "    }\n",
       "\n",
       "    .dataframe thead th {\n",
       "        text-align: right;\n",
       "    }\n",
       "</style>\n",
       "<table border=\"1\" class=\"dataframe\">\n",
       "  <thead>\n",
       "    <tr style=\"text-align: right;\">\n",
       "      <th></th>\n",
       "      <th>City</th>\n",
       "      <th>Lat</th>\n",
       "      <th>Lng</th>\n",
       "      <th>Max Temp</th>\n",
       "      <th>Humidity</th>\n",
       "      <th>Cloudiness</th>\n",
       "      <th>Wind Speed</th>\n",
       "      <th>Country</th>\n",
       "      <th>Date</th>\n",
       "    </tr>\n",
       "    <tr>\n",
       "      <th>City_ID</th>\n",
       "      <th></th>\n",
       "      <th></th>\n",
       "      <th></th>\n",
       "      <th></th>\n",
       "      <th></th>\n",
       "      <th></th>\n",
       "      <th></th>\n",
       "      <th></th>\n",
       "      <th></th>\n",
       "    </tr>\n",
       "  </thead>\n",
       "  <tbody>\n",
       "    <tr>\n",
       "      <th>0</th>\n",
       "      <td>new norfolk</td>\n",
       "      <td>-42.7826</td>\n",
       "      <td>147.0587</td>\n",
       "      <td>10.72</td>\n",
       "      <td>63</td>\n",
       "      <td>99</td>\n",
       "      <td>0.45</td>\n",
       "      <td>AU</td>\n",
       "      <td>1670264953</td>\n",
       "    </tr>\n",
       "    <tr>\n",
       "      <th>4</th>\n",
       "      <td>atuona</td>\n",
       "      <td>-9.8000</td>\n",
       "      <td>-139.0333</td>\n",
       "      <td>24.91</td>\n",
       "      <td>78</td>\n",
       "      <td>82</td>\n",
       "      <td>7.36</td>\n",
       "      <td>PF</td>\n",
       "      <td>1670264959</td>\n",
       "    </tr>\n",
       "    <tr>\n",
       "      <th>6</th>\n",
       "      <td>east london</td>\n",
       "      <td>-33.0153</td>\n",
       "      <td>27.9116</td>\n",
       "      <td>16.52</td>\n",
       "      <td>82</td>\n",
       "      <td>0</td>\n",
       "      <td>3.09</td>\n",
       "      <td>ZA</td>\n",
       "      <td>1670264961</td>\n",
       "    </tr>\n",
       "    <tr>\n",
       "      <th>8</th>\n",
       "      <td>bluff</td>\n",
       "      <td>-46.6000</td>\n",
       "      <td>168.3333</td>\n",
       "      <td>10.45</td>\n",
       "      <td>87</td>\n",
       "      <td>100</td>\n",
       "      <td>3.25</td>\n",
       "      <td>NZ</td>\n",
       "      <td>1670264962</td>\n",
       "    </tr>\n",
       "    <tr>\n",
       "      <th>10</th>\n",
       "      <td>bengkulu</td>\n",
       "      <td>-3.8004</td>\n",
       "      <td>102.2655</td>\n",
       "      <td>23.69</td>\n",
       "      <td>91</td>\n",
       "      <td>100</td>\n",
       "      <td>1.46</td>\n",
       "      <td>ID</td>\n",
       "      <td>1670264964</td>\n",
       "    </tr>\n",
       "  </tbody>\n",
       "</table>\n",
       "</div>"
      ],
      "text/plain": [
       "                City      Lat       Lng  Max Temp  Humidity  Cloudiness  \\\n",
       "City_ID                                                                   \n",
       "0        new norfolk -42.7826  147.0587     10.72        63          99   \n",
       "4             atuona  -9.8000 -139.0333     24.91        78          82   \n",
       "6        east london -33.0153   27.9116     16.52        82           0   \n",
       "8              bluff -46.6000  168.3333     10.45        87         100   \n",
       "10          bengkulu  -3.8004  102.2655     23.69        91         100   \n",
       "\n",
       "         Wind Speed Country        Date  \n",
       "City_ID                                  \n",
       "0              0.45      AU  1670264953  \n",
       "4              7.36      PF  1670264959  \n",
       "6              3.09      ZA  1670264961  \n",
       "8              3.25      NZ  1670264962  \n",
       "10             1.46      ID  1670264964  "
      ]
     },
     "execution_count": 14,
     "metadata": {},
     "output_type": "execute_result"
    }
   ],
   "source": [
    "# Create a DataFrame with the Southern Hemisphere data (Latitude < 0)\n",
    "southern_hemi_df = city_data_df.loc[city_data_df['Lat']<=0]\n",
    "\n",
    "# Display sample data\n",
    "southern_hemi_df.head()"
   ]
  },
  {
   "cell_type": "markdown",
   "metadata": {},
   "source": [
    "###  Temperature vs. Latitude Linear Regression Plot"
   ]
  },
  {
   "cell_type": "code",
   "execution_count": 15,
   "metadata": {},
   "outputs": [
    {
     "name": "stdout",
     "output_type": "stream",
     "text": [
      "the r-value is 0.72\n"
     ]
    },
    {
     "data": {
      "text/plain": [
       "Text(0.5, 1.0, 'Latitute vs Temperature  (Northern Hemi)')"
      ]
     },
     "execution_count": 15,
     "metadata": {},
     "output_type": "execute_result"
    },
    {
     "data": {
      "image/png": "[encoded data removed]",
      "text/plain": [
       "<Figure size 432x288 with 1 Axes>"
      ]
     },
     "metadata": {
      "needs_background": "light"
     },
     "output_type": "display_data"
    }
   ],
   "source": [
    "# Linear regression on Northern Hemisphere\n",
    "linear_reg(northern_hemi_df,northern_hemi_df['Max Temp'])\n",
    "plt.ylabel('Temperature (C)')\n",
    "plt.xlabel(\"Latitude\")\n",
    "plt.title(f'Latitute vs Temperature  (Northern Hemi)')"
   ]
  },
  {
   "cell_type": "code",
   "execution_count": 16,
   "metadata": {},
   "outputs": [
    {
     "name": "stdout",
     "output_type": "stream",
     "text": [
      "the r-value is 0.27\n"
     ]
    },
    {
     "data": {
      "text/plain": [
       "Text(0.5, 1.0, 'Latitute vs Temperature (Southern Hemi)')"
      ]
     },
     "execution_count": 16,
     "metadata": {},
     "output_type": "execute_result"
    },
    {
     "data": {
      "image/png": "[encoded data removed]",
      "text/plain": [
       "<Figure size 432x288 with 1 Axes>"
      ]
     },
     "metadata": {
      "needs_background": "light"
     },
     "output_type": "display_data"
    }
   ],
   "source": [
    "# Linear regression on Southern Hemisphere\n",
    "linear_reg(southern_hemi_df,southern_hemi_df['Max Temp'])\n",
    "plt.ylabel('Temperature (C)')\n",
    "plt.xlabel(\"Latitude\")\n",
    "plt.title(f'Latitute vs Temperature (Southern Hemi)')"
   ]
  },
  {
   "cell_type": "markdown",
   "metadata": {},
   "source": [
    "**Discussion about the linear relationship:** \n",
    "- in the northern hemisphere the further you get from the equator the lower the temperature, this is a strong correlation as it is 0.72 which is higher than 0.5\n",
    "- in the southern hemisphere the correlation is weak-moderate \n",
    "- overall there is a medium-high correlation between latitute and max temperature, however it might have been higher in the past and is being affected by current climate crisis"
   ]
  },
  {
   "cell_type": "markdown",
   "metadata": {},
   "source": [
    "### Humidity vs. Latitude Linear Regression Plot"
   ]
  },
  {
   "cell_type": "code",
   "execution_count": 17,
   "metadata": {},
   "outputs": [
    {
     "name": "stdout",
     "output_type": "stream",
     "text": [
      "the r-value is 0.12\n"
     ]
    },
    {
     "data": {
      "text/plain": [
       "Text(0.5, 1.0, 'Latitute vs Humidity (Northern Hemi)')"
      ]
     },
     "execution_count": 17,
     "metadata": {},
     "output_type": "execute_result"
    },
    {
     "data": {
      "image/png": "[encoded data removed]",
      "text/plain": [
       "<Figure size 432x288 with 1 Axes>"
      ]
     },
     "metadata": {
      "needs_background": "light"
     },
     "output_type": "display_data"
    }
   ],
   "source": [
    "# Northern Hemisphere\n",
    "linear_reg(northern_hemi_df,northern_hemi_df['Humidity'])\n",
    "plt.ylabel('Humidity (%)')\n",
    "plt.xlabel(\"Latitude\")\n",
    "plt.title(f'Latitute vs Humidity (Northern Hemi)')"
   ]
  },
  {
   "cell_type": "code",
   "execution_count": 18,
   "metadata": {},
   "outputs": [
    {
     "name": "stdout",
     "output_type": "stream",
     "text": [
      "the r-value is 0.01\n"
     ]
    },
    {
     "data": {
      "text/plain": [
       "Text(0.5, 1.0, 'Latitute vs Humidity (Southern Hemi)')"
      ]
     },
     "execution_count": 18,
     "metadata": {},
     "output_type": "execute_result"
    },
    {
     "data": {
      "image/png": "[encoded data removed]",
      "text/plain": [
       "<Figure size 432x288 with 1 Axes>"
      ]
     },
     "metadata": {
      "needs_background": "light"
     },
     "output_type": "display_data"
    }
   ],
   "source": [
    "# Southern Hemisphere\n",
    "linear_reg(southern_hemi_df,southern_hemi_df['Humidity'])\n",
    "plt.ylabel('Humidity (%)')\n",
    "plt.xlabel(\"Latitude\")\n",
    "plt.title(f'Latitute vs Humidity (Southern Hemi)')"
   ]
  },
  {
   "cell_type": "markdown",
   "metadata": {},
   "source": [
    "**Discussion about the linear relationship:** \n",
    "\n",
    "Overall there is almost no correlation between latitute and humidity in this data set. in the northern hemisphere there is a weak corrolation, however in the south the coefficient is too low to indicate any meaningful correlation"
   ]
  },
  {
   "cell_type": "markdown",
   "metadata": {},
   "source": [
    "### Cloudiness vs. Latitude Linear Regression Plot"
   ]
  },
  {
   "cell_type": "code",
   "execution_count": 19,
   "metadata": {},
   "outputs": [
    {
     "name": "stdout",
     "output_type": "stream",
     "text": [
      "the r-value is 0.04\n"
     ]
    },
    {
     "data": {
      "text/plain": [
       "Text(0.5, 1.0, 'Latitute vs Cloudiness  (Northern Hemi)')"
      ]
     },
     "execution_count": 19,
     "metadata": {},
     "output_type": "execute_result"
    },
    {
     "data": {
      "image/png": "[encoded data removed]",
      "text/plain": [
       "<Figure size 432x288 with 1 Axes>"
      ]
     },
     "metadata": {
      "needs_background": "light"
     },
     "output_type": "display_data"
    }
   ],
   "source": [
    "# Northern Hemisphere\n",
    "linear_reg(northern_hemi_df,northern_hemi_df['Cloudiness'])\n",
    "plt.ylabel('Cloudiness (%)')\n",
    "plt.xlabel(\"Latitude\")\n",
    "plt.title(f'Latitute vs Cloudiness  (Northern Hemi)')"
   ]
  },
  {
   "cell_type": "code",
   "execution_count": 20,
   "metadata": {},
   "outputs": [
    {
     "name": "stdout",
     "output_type": "stream",
     "text": [
      "the r-value is 0.04\n"
     ]
    },
    {
     "data": {
      "text/plain": [
       "Text(0.5, 1.0, 'Latitute vs Cloudiness (Southern Hemi)')"
      ]
     },
     "execution_count": 20,
     "metadata": {},
     "output_type": "execute_result"
    },
    {
     "data": {
      "image/png": "[encoded data removed]",
      "text/plain": [
       "<Figure size 432x288 with 1 Axes>"
      ]
     },
     "metadata": {
      "needs_background": "light"
     },
     "output_type": "display_data"
    }
   ],
   "source": [
    "# Southern Hemisphere\n",
    "linear_reg(southern_hemi_df,southern_hemi_df['Cloudiness'])\n",
    "plt.ylabel('Cloudiness (%)')\n",
    "plt.xlabel(\"Latitude\")\n",
    "plt.title(f'Latitute vs Cloudiness (Southern Hemi)')"
   ]
  },
  {
   "cell_type": "markdown",
   "metadata": {},
   "source": [
    "**Discussion about the linear relationship:** \n",
    "Overall there is no meaningful correlation between latitute and cloudiness in this data set. The r-squared values are very low which implies that the relationship between these parameteres are almost not correlated at all"
   ]
  },
  {
   "cell_type": "markdown",
   "metadata": {},
   "source": [
    "### Wind Speed vs. Latitude Linear Regression Plot"
   ]
  },
  {
   "cell_type": "code",
   "execution_count": 21,
   "metadata": {},
   "outputs": [
    {
     "name": "stdout",
     "output_type": "stream",
     "text": [
      "the r-value is 0.04\n"
     ]
    },
    {
     "data": {
      "text/plain": [
       "Text(0.5, 1.0, 'Latitute vs Wind Speed (Northern Hemi)')"
      ]
     },
     "execution_count": 21,
     "metadata": {},
     "output_type": "execute_result"
    },
    {
     "data": {
      "image/png": "[encoded data removed]",
      "text/plain": [
       "<Figure size 432x288 with 1 Axes>"
      ]
     },
     "metadata": {
      "needs_background": "light"
     },
     "output_type": "display_data"
    }
   ],
   "source": [
    "# Northern Hemisphere\n",
    "linear_reg(northern_hemi_df,northern_hemi_df['Wind Speed'])\n",
    "plt.ylabel('Wind Speed (m/s)')\n",
    "plt.xlabel(\"Latitude\")\n",
    "plt.title(f'Latitute vs Wind Speed (Northern Hemi)')"
   ]
  },
  {
   "cell_type": "code",
   "execution_count": 22,
   "metadata": {},
   "outputs": [
    {
     "name": "stdout",
     "output_type": "stream",
     "text": [
      "the r-value is 0.09\n"
     ]
    },
    {
     "data": {
      "text/plain": [
       "Text(0.5, 1.0, 'Latitute vs Wind Speed (Southern Hemi)')"
      ]
     },
     "execution_count": 22,
     "metadata": {},
     "output_type": "execute_result"
    },
    {
     "data": {
      "image/png": "[encoded data removed]",
      "text/plain": [
       "<Figure size 432x288 with 1 Axes>"
      ]
     },
     "metadata": {
      "needs_background": "light"
     },
     "output_type": "display_data"
    }
   ],
   "source": [
    "# Southern Hemisphere\n",
    "linear_reg(southern_hemi_df,southern_hemi_df['Wind Speed'])\n",
    "plt.ylabel('Wind Speed (m/s)')\n",
    "plt.xlabel(\"Latitude\")\n",
    "plt.title(f'Latitute vs Wind Speed (Southern Hemi)')"
   ]
  },
  {
   "cell_type": "markdown",
   "metadata": {},
   "source": [
    "**Discussion about the linear relationship:** \n",
    "The r-squared values are very low which implies that the relationship between these parameteres is not very close. However as it is close to 0.1 we can see a low/weak correlation, if we really needed to"
   ]
  },
  {
   "cell_type": "code",
   "execution_count": null,
   "metadata": {},
   "outputs": [],
   "source": []
  }
 ],
 "metadata": {
  "anaconda-cloud": {},
  "kernel_info": {
   "name": "python3"
  },
  "kernelspec": {
   "display_name": "Python 3 (ipykernel)",
   "language": "python",
   "name": "python3"
  },
  "language_info": {
   "codemirror_mode": {
    "name": "ipython",
    "version": 3
   },
   "file_extension": ".py",
   "mimetype": "text/x-python",
   "name": "python",
   "nbconvert_exporter": "python",
   "pygments_lexer": "ipython3",
   "version": "3.9.12"
  },
  "latex_envs": {
   "LaTeX_envs_menu_present": true,
   "autoclose": false,
   "autocomplete": true,
   "bibliofile": "biblio.bib",
   "cite_by": "apalike",
   "current_citInitial": 1,
   "eqLabelWithNumbers": true,
   "eqNumInitial": 1,
   "hotkeys": {
    "equation": "Ctrl-E",
    "itemize": "Ctrl-I"
   },
   "labels_anchors": false,
   "latex_user_defs": false,
   "report_style_numbering": false,
   "user_envs_cfg": false
  },
  "nteract": {
   "version": "0.12.3"
  }
 },
 "nbformat": 4,
 "nbformat_minor": 4
}
